{
 "cells": [
  {
   "cell_type": "code",
   "execution_count": 2,
   "id": "933ba7a4",
   "metadata": {},
   "outputs": [],
   "source": [
    "import re"
   ]
  },
  {
   "cell_type": "code",
   "execution_count": 19,
   "id": "ee455a40",
   "metadata": {},
   "outputs": [],
   "source": [
    "text = \"\"\"Hi, My name is Pavan Khandare my address is Hinjewadi, Pune-411057\n",
    "mail id : pavankhandare814@gmail.com\n",
    "office mail : pavan.khandare@outlook.com\n",
    "Pincode : 411057\n",
    "contact : 8999626264\n",
    "whatsapp : +91 (940)-432-2204\n",
    "I am Artificial Intelligence Trainer at FUEL\"\"\""
   ]
  },
  {
   "cell_type": "code",
   "execution_count": 3,
   "id": "2f359b9a",
   "metadata": {},
   "outputs": [],
   "source": [
    "pattern = \"\\d{10}\""
   ]
  },
  {
   "cell_type": "code",
   "execution_count": 4,
   "id": "ba9c9b74",
   "metadata": {},
   "outputs": [],
   "source": [
    "match = re.findall(pattern,text)"
   ]
  },
  {
   "cell_type": "code",
   "execution_count": 5,
   "id": "893f4ae7",
   "metadata": {},
   "outputs": [
    {
     "data": {
      "text/plain": [
       "['8999626264']"
      ]
     },
     "execution_count": 5,
     "metadata": {},
     "output_type": "execute_result"
    }
   ],
   "source": [
    "match"
   ]
  },
  {
   "cell_type": "code",
   "execution_count": 6,
   "id": "c9abb16f",
   "metadata": {},
   "outputs": [],
   "source": [
    "pattern_2 = \"\\(\\d{3}\\)-\\d{3}-\\d{4}\""
   ]
  },
  {
   "cell_type": "code",
   "execution_count": 7,
   "id": "df8da349",
   "metadata": {},
   "outputs": [],
   "source": [
    "match_2 = re.findall(pattern_2,text)"
   ]
  },
  {
   "cell_type": "code",
   "execution_count": 8,
   "id": "7e57017e",
   "metadata": {},
   "outputs": [
    {
     "data": {
      "text/plain": [
       "['(940)-432-2204']"
      ]
     },
     "execution_count": 8,
     "metadata": {},
     "output_type": "execute_result"
    }
   ],
   "source": [
    "match_2"
   ]
  },
  {
   "cell_type": "code",
   "execution_count": 9,
   "id": "76017488",
   "metadata": {},
   "outputs": [],
   "source": [
    "pattern_3 = \"\\d{10}|\\(\\d{3}\\)-\\d{3}-\\d{4}\""
   ]
  },
  {
   "cell_type": "code",
   "execution_count": 10,
   "id": "dfa41462",
   "metadata": {},
   "outputs": [],
   "source": [
    "match_3 = re.findall(pattern_3,text)"
   ]
  },
  {
   "cell_type": "code",
   "execution_count": 12,
   "id": "5de6f4cc",
   "metadata": {},
   "outputs": [
    {
     "data": {
      "text/plain": [
       "['8999626264', '(940)-432-2204']"
      ]
     },
     "execution_count": 12,
     "metadata": {},
     "output_type": "execute_result"
    }
   ],
   "source": [
    "match_3"
   ]
  },
  {
   "cell_type": "code",
   "execution_count": 13,
   "id": "6d7bf554",
   "metadata": {},
   "outputs": [],
   "source": [
    "pattern_4 = \"[a-zA-Z]*.[a-zA-Z]*@[a-zA-z0-9]*.com|[a-zA-z0-9]*@[a-zA-z]*.com\""
   ]
  },
  {
   "cell_type": "code",
   "execution_count": 17,
   "id": "82b3e5ca",
   "metadata": {},
   "outputs": [],
   "source": [
    "match_4 = re.findall(pattern_4,text)"
   ]
  },
  {
   "cell_type": "code",
   "execution_count": 18,
   "id": "e5d55d13",
   "metadata": {},
   "outputs": [
    {
     "data": {
      "text/plain": [
       "['pavankhandare814@gmail.com', 'pavan.khandare@outlook.com']"
      ]
     },
     "execution_count": 18,
     "metadata": {},
     "output_type": "execute_result"
    }
   ],
   "source": [
    "match_4"
   ]
  },
  {
   "cell_type": "code",
   "execution_count": 20,
   "id": "99bc03e0",
   "metadata": {},
   "outputs": [],
   "source": [
    "pattern_5 = \"Pincode[^\\d]*(\\d*)\""
   ]
  },
  {
   "cell_type": "code",
   "execution_count": 21,
   "id": "41565922",
   "metadata": {},
   "outputs": [],
   "source": [
    "match_5 = re.findall(pattern_5,text)"
   ]
  },
  {
   "cell_type": "code",
   "execution_count": 22,
   "id": "7c829f7f",
   "metadata": {},
   "outputs": [
    {
     "data": {
      "text/plain": [
       "['411057']"
      ]
     },
     "execution_count": 22,
     "metadata": {},
     "output_type": "execute_result"
    }
   ],
   "source": [
    "match_5"
   ]
  },
  {
   "cell_type": "code",
   "execution_count": 23,
   "id": "5fd986b4",
   "metadata": {},
   "outputs": [],
   "source": [
    "info = \"\"\"Born\tElon Reeve Musk\n",
    "June 28, 1971 (age 51)\n",
    "Pretoria, Transvaal, South Africa\n",
    "Education\t\n",
    "University of Pennsylvania (BA, BS)\n",
    "Title\t\n",
    "Founder, CEO, and Chief Engineer of SpaceX\n",
    "CEO and product architect of Tesla, Inc.\n",
    "Founder of The Boring Company and X.com (now part of PayPal)\n",
    "Co-founder of Neuralink, OpenAI, and Zip2\n",
    "President of Musk Foundation\n",
    "Spouses\t\n",
    "Justine Wilson\n",
    "​\n",
    "​(m. 2000; div. 2008)​\n",
    "Talulah Riley\n",
    "​\n",
    "​(m. 2010; div. 2012)​\n",
    "​\n",
    "​(m. 2013; div. 2016)​\n",
    "Partner\tGrimes (2018–2022)[1]\n",
    "Children\t10[a][3]\n",
    "Parents\t\n",
    "Errol Musk (father)\n",
    "Maye Musk (mother)\n",
    "Relatives\t\n",
    "Tosca Musk (sister)\n",
    "Kimbal Musk (brother)\n",
    "Lyndon Rive (cousin)\n",
    "Family\tMusk family\n",
    "Awards\tList of honors and awards\"\"\""
   ]
  },
  {
   "cell_type": "code",
   "execution_count": 24,
   "id": "df5f65f5",
   "metadata": {},
   "outputs": [],
   "source": [
    "name = \"Born(.*)\\n\""
   ]
  },
  {
   "cell_type": "code",
   "execution_count": 29,
   "id": "c62d7f6d",
   "metadata": {},
   "outputs": [],
   "source": [
    "name_match = re.findall(name,info)"
   ]
  },
  {
   "cell_type": "code",
   "execution_count": 30,
   "id": "a7ff6c0b",
   "metadata": {},
   "outputs": [
    {
     "data": {
      "text/plain": [
       "'Elon Reeve Musk'"
      ]
     },
     "execution_count": 30,
     "metadata": {},
     "output_type": "execute_result"
    }
   ],
   "source": [
    "name_match[0].strip()"
   ]
  },
  {
   "cell_type": "code",
   "execution_count": 31,
   "id": "82f5c047",
   "metadata": {},
   "outputs": [],
   "source": [
    "birthday = \"Born.*\\n(.*)\\(\""
   ]
  },
  {
   "cell_type": "code",
   "execution_count": 34,
   "id": "7e6308c4",
   "metadata": {},
   "outputs": [],
   "source": [
    "birthday_match = re.findall(birthday,info)"
   ]
  },
  {
   "cell_type": "code",
   "execution_count": 35,
   "id": "b1187ecc",
   "metadata": {},
   "outputs": [
    {
     "data": {
      "text/plain": [
       "['June 28, 1971 ']"
      ]
     },
     "execution_count": 35,
     "metadata": {},
     "output_type": "execute_result"
    }
   ],
   "source": [
    "birthday_match"
   ]
  },
  {
   "cell_type": "code",
   "execution_count": 45,
   "id": "067d0190",
   "metadata": {},
   "outputs": [],
   "source": [
    "birth_place = \"age.*\\)\\n(.*)\""
   ]
  },
  {
   "cell_type": "code",
   "execution_count": 46,
   "id": "8a45be7a",
   "metadata": {},
   "outputs": [],
   "source": [
    "birth_place_match = re.findall(birth_place,info)"
   ]
  },
  {
   "cell_type": "code",
   "execution_count": 47,
   "id": "739927db",
   "metadata": {},
   "outputs": [
    {
     "data": {
      "text/plain": [
       "['Pretoria, Transvaal, South Africa']"
      ]
     },
     "execution_count": 47,
     "metadata": {},
     "output_type": "execute_result"
    }
   ],
   "source": [
    "birth_place_match"
   ]
  },
  {
   "cell_type": "code",
   "execution_count": 65,
   "id": "31bb2691",
   "metadata": {},
   "outputs": [],
   "source": [
    "def pattern_match(pattern, info):\n",
    "    match = re.findall(pattern,info)\n",
    "    if match:\n",
    "        return match"
   ]
  },
  {
   "cell_type": "code",
   "execution_count": 66,
   "id": "fee9f357",
   "metadata": {},
   "outputs": [
    {
     "data": {
      "text/plain": [
       "['June 28, 1971 ']"
      ]
     },
     "execution_count": 66,
     "metadata": {},
     "output_type": "execute_result"
    }
   ],
   "source": [
    "pattern_match(\"Born.*\\n(.*)\\(\",info)"
   ]
  },
  {
   "cell_type": "code",
   "execution_count": 69,
   "id": "29a59c50",
   "metadata": {},
   "outputs": [],
   "source": [
    "def personal_information(a):\n",
    "    name = pattern_match(\"Born(.*)\\n\",info)\n",
    "    age = pattern_match(\"age(.*)\\)\",info)\n",
    "    birthday = pattern_match(\"Born.*\\n(.*)\\(\",info)\n",
    "    birthplace = pattern_match(\"age.*\\)\\n(.*)\",info)\n",
    "    return {\n",
    "        'Name' : name[0].strip(),\n",
    "        'Age' : int(age[0]),\n",
    "        'Birthday' : birthday[0].strip(),\n",
    "        'Birthplace' : birthplace[0].strip()\n",
    "    }"
   ]
  },
  {
   "cell_type": "code",
   "execution_count": 70,
   "id": "0413d76f",
   "metadata": {},
   "outputs": [
    {
     "data": {
      "text/plain": [
       "{'Name': 'Elon Reeve Musk',\n",
       " 'Age': 51,\n",
       " 'Birthday': 'June 28, 1971',\n",
       " 'Birthplace': 'Pretoria, Transvaal, South Africa'}"
      ]
     },
     "execution_count": 70,
     "metadata": {},
     "output_type": "execute_result"
    }
   ],
   "source": [
    "personal_information(info)"
   ]
  },
  {
   "cell_type": "markdown",
   "id": "2ae1e079",
   "metadata": {},
   "source": [
    "## Exercise"
   ]
  },
  {
   "cell_type": "markdown",
   "id": "a3ad18b9",
   "metadata": {},
   "source": [
    "### 1. Extract all twitter handles from following text. Twitter handle is the text that appears after https://twitter.com/ and is a single word. Also it contains only alpha numeric characters i.e. A-Z a-z , o to 9 and underscore _"
   ]
  },
  {
   "cell_type": "code",
   "execution_count": 3,
   "id": "e227092c",
   "metadata": {},
   "outputs": [
    {
     "data": {
      "text/plain": [
       "['elonmusk', 'teslarati', 'dummy_tesla', 'dummy_2_tesla']"
      ]
     },
     "execution_count": 3,
     "metadata": {},
     "output_type": "execute_result"
    }
   ],
   "source": [
    "text = '''\n",
    "Follow our leader Elon musk on twitter here: https://twitter.com/elonmusk, more information \n",
    "on Tesla's products can be found at https://www.tesla.com/. Also here are leading influencers \n",
    "for tesla related news,\n",
    "https://twitter.com/teslarati\n",
    "https://twitter.com/dummy_tesla\n",
    "https://twitter.com/dummy_2_tesla\n",
    "'''\n",
    "pattern = 'https://twitter\\.com/([a-zA-Z0-9_]*)' # todo: type your regex here\n",
    "\n",
    "re.findall(pattern, text)"
   ]
  },
  {
   "cell_type": "markdown",
   "id": "df1b97cc",
   "metadata": {},
   "source": [
    "### 2. Extract Concentration Risk Types. It will be a text that appears after \"Concentration Risk:\", In below example, your regex should extract these two strings\n",
    "\n",
    "(1) Credit Risk\n",
    "\n",
    "(2) Supply Risk"
   ]
  },
  {
   "cell_type": "code",
   "execution_count": 4,
   "id": "a8e6dbf7",
   "metadata": {},
   "outputs": [
    {
     "data": {
      "text/plain": [
       "['Credit Risk', 'Supply Risk']"
      ]
     },
     "execution_count": 4,
     "metadata": {},
     "output_type": "execute_result"
    }
   ],
   "source": [
    "text = '''\n",
    "Concentration of Risk: Credit Risk\n",
    "Financial instruments that potentially subject us to a concentration of credit risk consist of cash, cash equivalents, marketable securities,\n",
    "restricted cash, accounts receivable, convertible note hedges, and interest rate swaps. Our cash balances are primarily invested in money market funds\n",
    "or on deposit at high credit quality financial institutions in the U.S. These deposits are typically in excess of insured limits. As of September 30, 2021\n",
    "and December 31, 2020, no entity represented 10% or more of our total accounts receivable balance. The risk of concentration for our convertible note\n",
    "hedges and interest rate swaps is mitigated by transacting with several highly-rated multinational banks.\n",
    "Concentration of Risk: Supply Risk\n",
    "We are dependent on our suppliers, including single source suppliers, and the inability of these suppliers to deliver necessary components of our\n",
    "products in a timely manner at prices, quality levels and volumes acceptable to us, or our inability to efficiently manage these components from these\n",
    "suppliers, could have a material adverse effect on our business, prospects, financial condition and operating results.\n",
    "'''\n",
    "pattern = 'Concentration of Risk: ([a-zA-Z ]*)' # todo: type your regex here\n",
    "\n",
    "re.findall(pattern, text)"
   ]
  },
  {
   "cell_type": "markdown",
   "id": "7b779843",
   "metadata": {},
   "source": [
    "### 3. Companies in europe reports their financial numbers of semi annual basis and you can have a document like this. To exatract quarterly and semin annual period you can use a regex as shown below\n",
    "\n",
    "Hint: you need to use (?:) here to match everything enclosed"
   ]
  },
  {
   "cell_type": "code",
   "execution_count": 8,
   "id": "99d552f3",
   "metadata": {},
   "outputs": [
    {
     "data": {
      "text/plain": [
       "['2021 Q1', '2021 S1']"
      ]
     },
     "execution_count": 8,
     "metadata": {},
     "output_type": "execute_result"
    }
   ],
   "source": [
    "text = '''\n",
    "Tesla's gross cost of operating lease vehicles in FY2021 Q1 was $4.85 billion.\n",
    "BMW's gross cost of operating vehicles in FY2021 S1 was $8 billion.\n",
    "'''\n",
    "\n",
    "pattern = 'FY(\\d{4} (?:Q[1-4]|S[1-2]))' # todo: type your regex here\n",
    "matches = re.findall(pattern, text)\n",
    "matches"
   ]
  },
  {
   "cell_type": "code",
   "execution_count": null,
   "id": "2128b866",
   "metadata": {},
   "outputs": [],
   "source": []
  }
 ],
 "metadata": {
  "kernelspec": {
   "display_name": "Python 3 (ipykernel)",
   "language": "python",
   "name": "python3"
  },
  "language_info": {
   "codemirror_mode": {
    "name": "ipython",
    "version": 3
   },
   "file_extension": ".py",
   "mimetype": "text/x-python",
   "name": "python",
   "nbconvert_exporter": "python",
   "pygments_lexer": "ipython3",
   "version": "3.10.2"
  }
 },
 "nbformat": 4,
 "nbformat_minor": 5
}
